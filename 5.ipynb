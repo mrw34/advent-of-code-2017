{
 "cells": [
  {
   "cell_type": "code",
   "execution_count": 49,
   "metadata": {},
   "outputs": [
    {
     "data": {
      "text/plain": [
       "355965"
      ]
     },
     "execution_count": 49,
     "metadata": {},
     "output_type": "execute_result"
    }
   ],
   "source": [
    "input = map(parse, readlines(\"5.input\"))\n",
    "i = 1\n",
    "j = 0\n",
    "s = 0\n",
    "while true\n",
    "    try \n",
    "        j = input[i]\n",
    "    catch\n",
    "        break\n",
    "    end\n",
    "    input[i] += 1\n",
    "    i += j\n",
    "    s += 1\n",
    "end\n",
    "s"
   ]
  },
  {
   "cell_type": "code",
   "execution_count": 50,
   "metadata": {},
   "outputs": [
    {
     "data": {
      "text/plain": [
       "26948068"
      ]
     },
     "execution_count": 50,
     "metadata": {},
     "output_type": "execute_result"
    }
   ],
   "source": [
    "input = map(parse, readlines(\"5.input\"))\n",
    "i = 1\n",
    "j = 0\n",
    "s = 0\n",
    "while true\n",
    "    try \n",
    "        j = input[i]\n",
    "    catch\n",
    "        break\n",
    "    end\n",
    "    input[i] += j >= 3 ? -1 : 1\n",
    "    i += j\n",
    "    s += 1\n",
    "end\n",
    "s"
   ]
  },
  {
   "cell_type": "code",
   "execution_count": null,
   "metadata": {},
   "outputs": [],
   "source": []
  }
 ],
 "metadata": {
  "kernelspec": {
   "display_name": "Julia 0.5.2",
   "language": "julia",
   "name": "julia-0.5"
  },
  "language_info": {
   "file_extension": ".jl",
   "mimetype": "application/julia",
   "name": "julia",
   "version": "0.5.2"
  }
 },
 "nbformat": 4,
 "nbformat_minor": 2
}
