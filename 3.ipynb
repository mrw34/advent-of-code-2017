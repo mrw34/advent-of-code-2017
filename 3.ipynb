{
 "cells": [
  {
   "cell_type": "code",
   "execution_count": 17,
   "metadata": {},
   "outputs": [
    {
     "data": {
      "text/plain": [
       "277678"
      ]
     },
     "execution_count": 17,
     "metadata": {},
     "output_type": "execute_result"
    }
   ],
   "source": [
    "input = 277678"
   ]
  },
  {
   "cell_type": "code",
   "execution_count": 18,
   "metadata": {},
   "outputs": [
    {
     "data": {
      "text/plain": [
       "475.0"
      ]
     },
     "execution_count": 18,
     "metadata": {},
     "output_type": "execute_result"
    }
   ],
   "source": [
    "e = [0, 0]\n",
    "b = Dict(e=>1)\n",
    "d = [1, 0]\n",
    "f = Dict([1,0]=>[0,1],[0,1]=>[-1,0],[-1,0]=>[0,-1],[0,-1]=>[1,0])\n",
    "while length(b) < input\n",
    "    e += d\n",
    "    b[e] = length(b) + 1\n",
    "    if !haskey(b, e + f[d])\n",
    "        d = f[d]\n",
    "    end\n",
    "end\n",
    "norm(e, 1)"
   ]
  },
  {
   "cell_type": "code",
   "execution_count": 20,
   "metadata": {},
   "outputs": [
    {
     "data": {
      "text/plain": [
       "279138"
      ]
     },
     "execution_count": 20,
     "metadata": {},
     "output_type": "execute_result"
    }
   ],
   "source": [
    "e = [0, 0]\n",
    "b = Dict(e=>1)\n",
    "d = [1, 0]\n",
    "f = Dict([1,0]=>[0,1],[0,1]=>[-1,0],[-1,0]=>[0,-1],[0,-1]=>[1,0])\n",
    "while b[e] < input\n",
    "    e += d\n",
    "    b[e] = \n",
    "        (haskey(b, e + [0,1]) ? b[e + [0,1]] : 0) +\n",
    "        (haskey(b, e + [1,1]) ? b[e + [1,1]] : 0) +\n",
    "        (haskey(b, e + [1,0]) ? b[e + [1,0]] : 0) +\n",
    "        (haskey(b, e + [1,-1]) ? b[e + [1,-1]] : 0) +\n",
    "        (haskey(b, e + [0,-1]) ? b[e + [0,-1]] : 0) +\n",
    "        (haskey(b, e + [-1,-1]) ? b[e + [-1,-1]] : 0) +\n",
    "        (haskey(b, e + [-1,0]) ? b[e + [-1,0]] : 0) +\n",
    "        (haskey(b, e + [-1,1]) ? b[e + [-1,1]] : 0)\n",
    "    if !haskey(b, e + f[d])\n",
    "        d = f[d]\n",
    "    end\n",
    "end\n",
    "b[e]"
   ]
  },
  {
   "cell_type": "code",
   "execution_count": null,
   "metadata": {},
   "outputs": [],
   "source": []
  }
 ],
 "metadata": {
  "kernelspec": {
   "display_name": "Julia 0.5.2",
   "language": "julia",
   "name": "julia-0.5"
  },
  "language_info": {
   "file_extension": ".jl",
   "mimetype": "application/julia",
   "name": "julia",
   "version": "0.5.2"
  }
 },
 "nbformat": 4,
 "nbformat_minor": 2
}
