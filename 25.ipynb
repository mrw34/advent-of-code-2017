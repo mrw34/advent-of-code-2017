{
 "cells": [
  {
   "cell_type": "code",
   "execution_count": 20,
   "metadata": {},
   "outputs": [
    {
     "data": {
      "text/plain": [
       "tm (generic function with 1 method)"
      ]
     },
     "execution_count": 20,
     "metadata": {},
     "output_type": "execute_result"
    }
   ],
   "source": [
    "function tm(m, is)\n",
    "    s = 'A'\n",
    "    p = 0\n",
    "    t = Dict()\n",
    "    for _ in 1:m\n",
    "       i = is[s][get(t, p, 0)]\n",
    "        t[p] = i[1]\n",
    "        p += i[2]\n",
    "        s = i[3]\n",
    "    end\n",
    "    sum(values(t))\n",
    "end"
   ]
  },
  {
   "cell_type": "code",
   "execution_count": 21,
   "metadata": {},
   "outputs": [
    {
     "data": {
      "text/plain": [
       "3"
      ]
     },
     "execution_count": 21,
     "metadata": {},
     "output_type": "execute_result"
    }
   ],
   "source": [
    "tm(6, Dict(\n",
    "    'A' => Dict(\n",
    "        0 => [1, 1, 'B'],\n",
    "        1 => [0, -1, 'B']\n",
    "    ),\n",
    "    'B' => Dict(\n",
    "        0 => [1, -1, 'A'],\n",
    "        1 => [1, 1, 'B']\n",
    "    )    \n",
    "))"
   ]
  },
  {
   "cell_type": "code",
   "execution_count": 22,
   "metadata": {},
   "outputs": [
    {
     "data": {
      "text/plain": [
       "3362"
      ]
     },
     "execution_count": 22,
     "metadata": {},
     "output_type": "execute_result"
    }
   ],
   "source": [
    "tm(12481997, Dict(\n",
    "    'A' => Dict(\n",
    "        0 => [1, 1, 'B'],\n",
    "        1 => [0, -1, 'C']\n",
    "    ),\n",
    "    'B' => Dict(\n",
    "        0 => [1, -1, 'A'],\n",
    "        1 => [1, 1, 'D']\n",
    "    ),\n",
    "    'C' => Dict(\n",
    "        0 => [0, -1, 'B'],\n",
    "        1 => [0, -1, 'E']\n",
    "    ),\n",
    "    'D' => Dict(\n",
    "        0 => [1, 1, 'A'],\n",
    "        1 => [0, 1, 'B']\n",
    "    ),\n",
    "    'E' => Dict(\n",
    "        0 => [1, -1, 'F'],\n",
    "        1 => [1, -1, 'C']\n",
    "    ),\n",
    "    'F' => Dict(\n",
    "        0 => [1, 1, 'D'],\n",
    "        1 => [1, 1, 'A']\n",
    "    ) \n",
    "))"
   ]
  },
  {
   "cell_type": "code",
   "execution_count": null,
   "metadata": {},
   "outputs": [],
   "source": []
  }
 ],
 "metadata": {
  "kernelspec": {
   "display_name": "Julia 0.6.2",
   "language": "julia",
   "name": "julia-0.6"
  },
  "language_info": {
   "file_extension": ".jl",
   "mimetype": "application/julia",
   "name": "julia",
   "version": "0.6.2"
  }
 },
 "nbformat": 4,
 "nbformat_minor": 2
}
