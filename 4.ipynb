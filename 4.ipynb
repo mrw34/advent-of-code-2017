{
 "cells": [
  {
   "cell_type": "code",
   "execution_count": 1,
   "metadata": {},
   "outputs": [
    {
     "data": {
      "text/plain": [
       "512-element Array{Array{SubString{String},1},1}:\n",
       " SubString{String}[\"pphsv\",\"ojtou\",\"brvhsj\",\"cer\",\"ntfhlra\",\"udeh\",\"ccgtyzc\",\"zoyzmh\",\"jum\",\"lugbnk\"]                     \n",
       " SubString{String}[\"vxjnf\",\"fzqitnj\",\"uyfck\",\"blnl\",\"impo\",\"kxoow\",\"nngd\",\"worcm\",\"bdesehw\"]                              \n",
       " SubString{String}[\"caibh\",\"nfuk\",\"kfnu\",\"llfdbz\",\"uxjty\",\"yxjut\",\"jcea\"]                                                 \n",
       " SubString{String}[\"qiho\",\"qif\",\"eupwww\",\"avyglnj\",\"nxzotsu\",\"hio\",\"lws\"]                                                 \n",
       " SubString{String}[\"xjty\",\"usocjsh\",\"pivk\",\"qnknunc\",\"yjcgh\",\"bwya\",\"djw\",\"zpyr\"]                                         \n",
       " SubString{String}[\"ycfmfe\",\"mgq\",\"sjiomg\",\"nfzjul\",\"bjwkmgu\",\"yvsnvgj\",\"dcjupu\",\"wzz\",\"blmn\"]                            \n",
       " SubString{String}[\"rdowgbt\",\"vpwfdoi\",\"blzl\",\"laghnk\",\"gsa\",\"vhnpo\",\"cztxzlb\",\"rtz\",\"hvwonhb\",\"eciju\",\"pfjtbo\"]          \n",
       " SubString{String}[\"bqs\",\"bqs\",\"dbutvgf\",\"mmzb\",\"izpyud\",\"rap\",\"izpyud\",\"xlzeb\",\"mnj\",\"hjncs\"]                            \n",
       " SubString{String}[\"xpu\",\"vwp\",\"nujcos\",\"piu\",\"irindir\",\"tpmfd\",\"umtvlm\",\"gznu\"]                                          \n",
       " SubString{String}[\"sfpuxar\",\"qcnbte\",\"omouazv\",\"cnh\",\"uaxspfr\",\"sepolf\",\"rusafpx\"]                                       \n",
       " SubString{String}[\"xbmaf\",\"iceyqqq\",\"sabpt\",\"gliexel\",\"muubepe\",\"qqiyqce\",\"fmrcc\",\"eazk\",\"obkeonl\",\"fmccr\",\"kgk\"]        \n",
       " SubString{String}[\"apg\",\"gbycwe\",\"gap\",\"pag\"]                                                                            \n",
       " SubString{String}[\"gagv\",\"saqbk\",\"lwtllc\",\"wnhzz\",\"khxsjc\"]                                                              \n",
       " ⋮                                                                                                                        \n",
       " SubString{String}[\"pofit\",\"owmpqej\",\"vwrobh\",\"jvox\",\"gdqehss\",\"yyxd\",\"styu\",\"tfkm\",\"fiotp\"]                              \n",
       " SubString{String}[\"ecz\",\"mdpoqsv\",\"mdpoqsv\",\"yxx\",\"rexok\",\"hcfll\",\"yvury\",\"hdhcfu\",\"juhkvpt\",\"rspnfj\",\"hxvgdir\"]         \n",
       " SubString{String}[\"ohed\",\"mtigaoe\",\"eodh\",\"agmiteo\"]                                                                     \n",
       " SubString{String}[\"vjvv\",\"hfco\",\"cppbxtw\",\"hawsjxz\",\"ovlsq\",\"qgs\",\"risgwhg\",\"auhj\"]                                      \n",
       " SubString{String}[\"togivgg\",\"czrtvw\",\"ccz\",\"wzvtrc\",\"bse\",\"lsk\"]                                                         \n",
       " SubString{String}[\"ndc\",\"ndc\",\"lrfi\",\"iyleol\",\"nchx\",\"jxpv\",\"xdcsfmp\",\"nnx\",\"wtvq\",\"pih\",\"tgc\"]                          \n",
       " SubString{String}[\"hzpf\",\"sur\",\"zhfp\",\"klfmhx\",\"lbuidp\",\"xiqimnf\"]                                                       \n",
       " SubString{String}[\"qddpdk\",\"trfxpip\",\"pnsowj\",\"hidgvnf\",\"prur\",\"rsrautp\",\"aamykfm\",\"fysqjmq\",\"xwzjane\",\"mbmtxhf\",\"oqctt\"]\n",
       " SubString{String}[\"lfd\",\"eops\",\"govslp\",\"ultbye\",\"vrqai\",\"hcjkcf\",\"snpape\"]                                              \n",
       " SubString{String}[\"cbok\",\"koumkad\",\"otpozb\",\"pqcs\",\"emilpe\",\"wpcyvxd\",\"bock\"]                                            \n",
       " SubString{String}[\"spjb\",\"xkkak\",\"anuvk\",\"ejoklh\",\"nyerw\",\"bsjp\",\"zxuq\",\"vcwitnd\",\"xxtjmjg\",\"zfgq\",\"xkpf\"]               \n",
       " SubString{String}[\"juo\",\"pmiyoh\",\"xxk\",\"myphio\",\"ogfyf\",\"dovlmwm\",\"moevao\",\"qqxidn\"]                                     "
      ]
     },
     "execution_count": 1,
     "metadata": {},
     "output_type": "execute_result"
    }
   ],
   "source": [
    "input = readlines(\"4.input\")\n",
    "s = map(split, input)"
   ]
  },
  {
   "cell_type": "code",
   "execution_count": 2,
   "metadata": {},
   "outputs": [
    {
     "data": {
      "text/plain": [
       "466"
      ]
     },
     "execution_count": 2,
     "metadata": {},
     "output_type": "execute_result"
    }
   ],
   "source": [
    "length(filter(e -> length(e) == length(Set(e)), s))"
   ]
  },
  {
   "cell_type": "code",
   "execution_count": 3,
   "metadata": {},
   "outputs": [
    {
     "data": {
      "text/plain": [
       "251"
      ]
     },
     "execution_count": 3,
     "metadata": {},
     "output_type": "execute_result"
    }
   ],
   "source": [
    "s = map(es -> map(e -> join(sort(split(e, \"\"))), es), s)\n",
    "length(filter(e -> length(e) == length(Set(e)), s))"
   ]
  },
  {
   "cell_type": "code",
   "execution_count": null,
   "metadata": {},
   "outputs": [],
   "source": []
  }
 ],
 "metadata": {
  "kernelspec": {
   "display_name": "Julia 0.5.2",
   "language": "julia",
   "name": "julia-0.5"
  },
  "language_info": {
   "file_extension": ".jl",
   "mimetype": "application/julia",
   "name": "julia",
   "version": "0.5.2"
  }
 },
 "nbformat": 4,
 "nbformat_minor": 2
}
