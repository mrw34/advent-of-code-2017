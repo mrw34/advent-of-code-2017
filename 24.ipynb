{
 "cells": [
  {
   "cell_type": "code",
   "execution_count": 14,
   "metadata": {},
   "outputs": [
    {
     "data": {
      "text/plain": [
       "56-element Array{Array{Int64,1},1}:\n",
       " [32, 31]\n",
       " [2, 2]  \n",
       " [0, 43] \n",
       " [45, 15]\n",
       " [33, 24]\n",
       " [20, 20]\n",
       " [14, 42]\n",
       " [2, 35] \n",
       " [50, 27]\n",
       " [2, 17] \n",
       " [5, 45] \n",
       " [3, 14] \n",
       " [26, 1] \n",
       " ⋮       \n",
       " [16, 0] \n",
       " [34, 17]\n",
       " [31, 7] \n",
       " [5, 27] \n",
       " [7, 4]  \n",
       " [49, 49]\n",
       " [14, 21]\n",
       " [50, 9] \n",
       " [14, 44]\n",
       " [29, 29]\n",
       " [13, 38]\n",
       " [31, 11]"
      ]
     },
     "execution_count": 14,
     "metadata": {},
     "output_type": "execute_result"
    }
   ],
   "source": [
    "input = map.(parse, split.(readlines(\"24.input\"), \"/\"))"
   ]
  },
  {
   "cell_type": "code",
   "execution_count": 15,
   "metadata": {},
   "outputs": [
    {
     "data": {
      "text/plain": [
       "c (generic function with 1 method)"
      ]
     },
     "execution_count": 15,
     "metadata": {},
     "output_type": "execute_result"
    }
   ],
   "source": [
    "function c(as, bs, ds)\n",
    "    f = false\n",
    "    for a in as\n",
    "        if bs[end][2] == a[1] || bs[end][2] == a[2]\n",
    "            c(filter(e -> e != a, as), [bs..., bs[end][2] == a[1] ? a : reverse(a)], ds)\n",
    "            f = true\n",
    "        end\n",
    "    end\n",
    "    if !f\n",
    "        push!(ds, bs)\n",
    "    end\n",
    "end"
   ]
  },
  {
   "cell_type": "code",
   "execution_count": 16,
   "metadata": {},
   "outputs": [
    {
     "data": {
      "text/plain": [
       "1511"
      ]
     },
     "execution_count": 16,
     "metadata": {},
     "output_type": "execute_result"
    }
   ],
   "source": [
    "ds = []\n",
    "c(input, [[0, 0]], ds)\n",
    "maximum(sum.(sum.(ds)))"
   ]
  },
  {
   "cell_type": "code",
   "execution_count": 17,
   "metadata": {},
   "outputs": [
    {
     "data": {
      "text/plain": [
       "1471"
      ]
     },
     "execution_count": 17,
     "metadata": {},
     "output_type": "execute_result"
    }
   ],
   "source": [
    "ds = []\n",
    "c(input, [[0, 0]], ds)\n",
    "l = 0\n",
    "s = 0\n",
    "for d in ds\n",
    "    if length(d) >= l && sum(sum(d)) > s\n",
    "        l = length(d)\n",
    "        s = sum(sum(d))\n",
    "    end\n",
    "end\n",
    "s"
   ]
  },
  {
   "cell_type": "code",
   "execution_count": null,
   "metadata": {},
   "outputs": [],
   "source": []
  }
 ],
 "metadata": {
  "kernelspec": {
   "display_name": "Julia 0.6.2",
   "language": "julia",
   "name": "julia-0.6"
  },
  "language_info": {
   "file_extension": ".jl",
   "mimetype": "application/julia",
   "name": "julia",
   "version": "0.6.2"
  }
 },
 "nbformat": 4,
 "nbformat_minor": 2
}
