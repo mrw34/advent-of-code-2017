{
 "cells": [
  {
   "cell_type": "code",
   "execution_count": 40,
   "metadata": {},
   "outputs": [
    {
     "data": {
      "text/plain": [
       "1000-element Array{Array{SubString{String},1},1}:\n",
       " SubString{String}[\"kd\", \"dec\", \"-37\", \"if\", \"gm\", \"<=\", \"9\"]     \n",
       " SubString{String}[\"x\", \"dec\", \"-715\", \"if\", \"kjn\", \"==\", \"0\"]    \n",
       " SubString{String}[\"ey\", \"inc\", \"249\", \"if\", \"x\", \"<\", \"722\"]     \n",
       " SubString{String}[\"n\", \"dec\", \"970\", \"if\", \"t\", \">\", \"3\"]        \n",
       " SubString{String}[\"f\", \"dec\", \"-385\", \"if\", \"msg\", \">\", \"-3\"]    \n",
       " SubString{String}[\"kd\", \"dec\", \"-456\", \"if\", \"ic\", \"<=\", \"-8\"]   \n",
       " SubString{String}[\"zv\", \"dec\", \"-745\", \"if\", \"gub\", \"<=\", \"4\"]   \n",
       " SubString{String}[\"ic\", \"inc\", \"705\", \"if\", \"yp\", \">\", \"-6\"]     \n",
       " SubString{String}[\"lyr\", \"dec\", \"-970\", \"if\", \"gm\", \"!=\", \"0\"]   \n",
       " SubString{String}[\"lyr\", \"inc\", \"935\", \"if\", \"j\", \">=\", \"0\"]     \n",
       " SubString{String}[\"gm\", \"dec\", \"716\", \"if\", \"gm\", \"<\", \"9\"]      \n",
       " SubString{String}[\"kjn\", \"inc\", \"-897\", \"if\", \"j\", \"<=\", \"-9\"]   \n",
       " SubString{String}[\"j\", \"dec\", \"-824\", \"if\", \"f\", \"!=\", \"384\"]    \n",
       " ⋮                                                                \n",
       " SubString{String}[\"m\", \"inc\", \"511\", \"if\", \"m\", \"<\", \"2067\"]     \n",
       " SubString{String}[\"t\", \"inc\", \"-410\", \"if\", \"f\", \">=\", \"3498\"]   \n",
       " SubString{String}[\"x\", \"inc\", \"-137\", \"if\", \"ucy\", \"==\", \"-3947\"]\n",
       " SubString{String}[\"riz\", \"dec\", \"-965\", \"if\", \"ic\", \"==\", \"319\"] \n",
       " SubString{String}[\"kjn\", \"inc\", \"-528\", \"if\", \"riz\", \"<=\", \"860\"]\n",
       " SubString{String}[\"ic\", \"dec\", \"582\", \"if\", \"tj\", \"!=\", \"1288\"]  \n",
       " SubString{String}[\"msg\", \"inc\", \"859\", \"if\", \"m\", \">\", \"2564\"]   \n",
       " SubString{String}[\"f\", \"inc\", \"573\", \"if\", \"bxy\", \"!=\", \"1573\"]  \n",
       " SubString{String}[\"kd\", \"inc\", \"970\", \"if\", \"yp\", \">\", \"-2534\"]  \n",
       " SubString{String}[\"f\", \"inc\", \"390\", \"if\", \"gm\", \">\", \"-4248\"]   \n",
       " SubString{String}[\"ucy\", \"dec\", \"0\", \"if\", \"bxy\", \"<\", \"1582\"]   \n",
       " SubString{String}[\"kd\", \"inc\", \"814\", \"if\", \"zv\", \"<=\", \"-591\"]  "
      ]
     },
     "execution_count": 40,
     "metadata": {},
     "output_type": "execute_result"
    }
   ],
   "source": [
    "input = map(split, readlines(\"8.input\"))"
   ]
  },
  {
   "cell_type": "code",
   "execution_count": 44,
   "metadata": {},
   "outputs": [
    {
     "data": {
      "text/plain": [
       "4832"
      ]
     },
     "execution_count": 44,
     "metadata": {},
     "output_type": "execute_result"
    }
   ],
   "source": [
    "a = Dict([(i[1], 0) for i in input])\n",
    "m = 0\n",
    "for i in input\n",
    "    if eval(parse(join([a[i[5]], i[6], i[7]])))\n",
    "        a[i[1]] += i[2] == \"inc\" ? parse(i[3]) : -parse(i[3])\n",
    "        m = max(m, a[i[1]])\n",
    "    end\n",
    "end\n",
    "maximum(values(a))"
   ]
  },
  {
   "cell_type": "code",
   "execution_count": 42,
   "metadata": {},
   "outputs": [
    {
     "data": {
      "text/plain": [
       "5443"
      ]
     },
     "execution_count": 42,
     "metadata": {},
     "output_type": "execute_result"
    }
   ],
   "source": [
    "m"
   ]
  }
 ],
 "metadata": {
  "kernelspec": {
   "display_name": "Julia 0.6.0",
   "language": "julia",
   "name": "julia-0.6"
  },
  "language_info": {
   "file_extension": ".jl",
   "mimetype": "application/julia",
   "name": "julia",
   "version": "0.6.0"
  }
 },
 "nbformat": 4,
 "nbformat_minor": 2
}
