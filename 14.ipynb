{
 "cells": [
  {
   "cell_type": "code",
   "execution_count": 1,
   "metadata": {},
   "outputs": [
    {
     "data": {
      "text/plain": [
       "\"ljoxqyyw\""
      ]
     },
     "execution_count": 1,
     "metadata": {},
     "output_type": "execute_result"
    }
   ],
   "source": [
    "input = \"ljoxqyyw\""
   ]
  },
  {
   "cell_type": "code",
   "execution_count": 2,
   "metadata": {},
   "outputs": [],
   "source": [
    "function hash(it)\n",
    "    ls = [Int(c) for c in it]\n",
    "    append!(ls, [17,31,73,47,23])\n",
    "    a = collect(0:255)\n",
    "    i = 1\n",
    "    s = 0\n",
    "    for j in 1:64\n",
    "        for l in ls\n",
    "            b = [a[(i + j - 2) % length(a) + 1] for j in 1:l]\n",
    "            reverse!(b)\n",
    "            for j in 1:l\n",
    "                a[(i + j - 2) % length(a) + 1] = b[j]\n",
    "            end\n",
    "            i = (i + (l + s) - 1) % length(a) + 1\n",
    "            s += 1\n",
    "        end\n",
    "    end\n",
    "    h = \"\"\n",
    "    for j in 1:16:256\n",
    "        h = h * (hex(a[j] ⊻ a[j+1] ⊻ a[j+2] ⊻ a[j+3] ⊻ a[j+4] ⊻ a[j+5] ⊻ a[j+6] ⊻ a[j+7] ⊻ a[j+8] ⊻ a[j+9] ⊻ a[j+10] ⊻ a[j+11] ⊻ a[j+12] ⊻ a[j+13] ⊻ a[j+14] ⊻ a[j+15], 2))\n",
    "    end\n",
    "    h\n",
    "end\n",
    "z = \"\"\n",
    "for i in 0:127\n",
    "    z *= bin(parse(BigInt, string(\"0x\", hash(string(input, \"-\", i)))), 128)\n",
    "end"
   ]
  },
  {
   "cell_type": "code",
   "execution_count": 3,
   "metadata": {},
   "outputs": [
    {
     "data": {
      "text/plain": [
       "8316"
      ]
     },
     "execution_count": 3,
     "metadata": {},
     "output_type": "execute_result"
    }
   ],
   "source": [
    "length(replace(z, \"0\", \"\"))"
   ]
  },
  {
   "cell_type": "code",
   "execution_count": 4,
   "metadata": {},
   "outputs": [
    {
     "data": {
      "text/plain": [
       "1074"
      ]
     },
     "execution_count": 4,
     "metadata": {},
     "output_type": "execute_result"
    }
   ],
   "source": [
    "t = Int(sqrt(length(z)))\n",
    "regions = Dict()\n",
    "for (k, v) in enumerate(z)\n",
    "    if v == '1' && !(k in keys(regions))\n",
    "        region = length(Set(values(regions))) + 1\n",
    "        q = [k]\n",
    "        while length(q) != 0\n",
    "            e = shift!(q)\n",
    "            if e in keys(regions)\n",
    "                continue\n",
    "            end\n",
    "            regions[e] = region\n",
    "            if (e + t) <= length(z) && z[e + t] == '1'\n",
    "                push!(q, e + t)\n",
    "            end\n",
    "            if (e - t) >= 1 && z[e - t] == '1'\n",
    "                push!(q, e - t)\n",
    "            end\n",
    "            if (e % t) != 0 && z[e + 1] == '1'\n",
    "                push!(q, e + 1)\n",
    "            end\n",
    "            if (e % t) != 1 && z[e - 1] == '1'\n",
    "                push!(q, e - 1)\n",
    "            end\n",
    "        end\n",
    "    end\n",
    "end\n",
    "maximum(values(regions))"
   ]
  },
  {
   "cell_type": "code",
   "execution_count": null,
   "metadata": {},
   "outputs": [],
   "source": []
  }
 ],
 "metadata": {
  "kernelspec": {
   "display_name": "Julia 0.6.0",
   "language": "julia",
   "name": "julia-0.6"
  },
  "language_info": {
   "file_extension": ".jl",
   "mimetype": "application/julia",
   "name": "julia",
   "version": "0.6.0"
  }
 },
 "nbformat": 4,
 "nbformat_minor": 2
}
