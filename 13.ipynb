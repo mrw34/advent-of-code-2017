{
 "cells": [
  {
   "cell_type": "code",
   "execution_count": 115,
   "metadata": {},
   "outputs": [
    {
     "data": {
      "text/plain": [
       "43-element Array{String,1}:\n",
       " \"0: 3\"  \n",
       " \"1: 2\"  \n",
       " \"2: 4\"  \n",
       " \"4: 4\"  \n",
       " \"6: 5\"  \n",
       " \"8: 6\"  \n",
       " \"10: 6\" \n",
       " \"12: 6\" \n",
       " \"14: 6\" \n",
       " \"16: 8\" \n",
       " \"18: 8\" \n",
       " \"20: 8\" \n",
       " \"22: 8\" \n",
       " ⋮       \n",
       " \"60: 14\"\n",
       " \"62: 14\"\n",
       " \"64: 12\"\n",
       " \"66: 14\"\n",
       " \"70: 14\"\n",
       " \"72: 14\"\n",
       " \"74: 14\"\n",
       " \"76: 14\"\n",
       " \"80: 18\"\n",
       " \"88: 20\"\n",
       " \"90: 14\"\n",
       " \"98: 17\""
      ]
     },
     "execution_count": 115,
     "metadata": {},
     "output_type": "execute_result"
    }
   ],
   "source": [
    "input = readlines(\"13.input\")"
   ]
  },
  {
   "cell_type": "code",
   "execution_count": 116,
   "metadata": {},
   "outputs": [
    {
     "data": {
      "text/plain": [
       "Dict{Int64,Int64} with 43 entries:\n",
       "  2  => 4\n",
       "  46 => 12\n",
       "  42 => 9\n",
       "  66 => 14\n",
       "  58 => 12\n",
       "  8  => 6\n",
       "  74 => 14\n",
       "  90 => 14\n",
       "  20 => 8\n",
       "  14 => 6\n",
       "  70 => 14\n",
       "  52 => 14\n",
       "  18 => 8\n",
       "  26 => 8\n",
       "  64 => 12\n",
       "  44 => 12\n",
       "  4  => 4\n",
       "  1  => 2\n",
       "  30 => 12\n",
       "  54 => 14\n",
       "  32 => 14\n",
       "  50 => 12\n",
       "  80 => 18\n",
       "  40 => 12\n",
       "  0  => 3\n",
       "  ⋮  => ⋮"
      ]
     },
     "execution_count": 116,
     "metadata": {},
     "output_type": "execute_result"
    }
   ],
   "source": [
    "a = Dict(map(parse, split(i, \": \")) for i in input)"
   ]
  },
  {
   "cell_type": "code",
   "execution_count": 117,
   "metadata": {},
   "outputs": [
    {
     "data": {
      "text/plain": [
       "iterate (generic function with 3 methods)"
      ]
     },
     "execution_count": 117,
     "metadata": {},
     "output_type": "execute_result"
    }
   ],
   "source": [
    "function iterate(c, d)\n",
    "    for (k, v) in c\n",
    "        c[k] += d[k]\n",
    "        if c[k] == a[k]\n",
    "            d[k] = -1\n",
    "        elseif c[k] == 1\n",
    "            d[k] = 1\n",
    "        end\n",
    "    end\n",
    "end"
   ]
  },
  {
   "cell_type": "code",
   "execution_count": 118,
   "metadata": {},
   "outputs": [
    {
     "data": {
      "text/plain": [
       "1900"
      ]
     },
     "execution_count": 118,
     "metadata": {},
     "output_type": "execute_result"
    }
   ],
   "source": [
    "c = Dict(k=>1 for k in keys(a))\n",
    "d = Dict(k=>1 for k in keys(a))\n",
    "s = 0\n",
    "for p in 0:maximum(keys(a))\n",
    "    if p in keys(c) && c[p] == 1\n",
    "        s += p * a[p]\n",
    "    end\n",
    "    iterate(c, d)\n",
    "end\n",
    "s"
   ]
  },
  {
   "cell_type": "code",
   "execution_count": 119,
   "metadata": {},
   "outputs": [
    {
     "data": {
      "text/plain": [
       "3966414"
      ]
     },
     "execution_count": 119,
     "metadata": {},
     "output_type": "execute_result"
    }
   ],
   "source": [
    "c = Dict(k=>1 for k in keys(a))\n",
    "d = Dict(k=>1 for k in keys(a))\n",
    "sp = 0\n",
    "while true\n",
    "    e = false\n",
    "    c_ = copy(c)\n",
    "    d_ = copy(d)\n",
    "    for p in 0:maximum(keys(a))\n",
    "        if p in keys(c_) && c_[p] == 1\n",
    "            e = true\n",
    "            break\n",
    "        end\n",
    "        iterate(c_, d_)\n",
    "    end\n",
    "    if !e\n",
    "        break\n",
    "    end\n",
    "    sp += 1\n",
    "    iterate(c, d)\n",
    "end\n",
    "sp"
   ]
  },
  {
   "cell_type": "code",
   "execution_count": null,
   "metadata": {},
   "outputs": [],
   "source": []
  }
 ],
 "metadata": {
  "kernelspec": {
   "display_name": "Julia 0.6.0",
   "language": "julia",
   "name": "julia-0.6"
  },
  "language_info": {
   "file_extension": ".jl",
   "mimetype": "application/julia",
   "name": "julia",
   "version": "0.6.0"
  }
 },
 "nbformat": 4,
 "nbformat_minor": 2
}
