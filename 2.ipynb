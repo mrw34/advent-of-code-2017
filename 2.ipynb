{
 "cells": [
  {
   "cell_type": "code",
   "execution_count": 2,
   "metadata": {},
   "outputs": [
    {
     "data": {
      "text/plain": [
       "16×16 Array{Int64,2}:\n",
       "  798  1976  1866  1862   559  1797  …   104  2000   248   131    87    95\n",
       "  201   419   336    65   208    57      390   412   355   209   330   135\n",
       "  967    84   492  1425  1502  1324      310  1360   773    69    68   290\n",
       "  169   264   107   298    38   149      305   403    89   179   394   172\n",
       " 3069   387  2914  2748  1294  1143      113   145  2827  2545   134   469\n",
       " 3885  1098  2638  5806  4655  4787  …  5590   215  5336  2738   218   266\n",
       "  661   789   393   159   172   355      345   784    65   971   396   234\n",
       " 4095   191  4333   161  3184   193     1207  3222   185   176  2914  4152\n",
       "  131   298   279   304   118   135      366   341   139   159    17   149\n",
       " 1155  5131   373   136   103  5168     4315   126   236  4668  4595  4959\n",
       "  664   635   588   673   354   656  …    95    40    84   413   618    31\n",
       " 2163   127   957  2500  2370  2344     2392   379  2292    98   456   154\n",
       "  271  4026  2960  6444  2896   228      265  2231  2565  6603   207  6236\n",
       "   91   683  1736  1998  1960  1727     1768    74    58  1956  1627   893\n",
       " 3591  1843  3448  1775  3564  2632       78    99  1668    98  2963  3553\n",
       " 2155   225  2856  3061   105   204  …   977  1377   181  1856  2952  2262"
      ]
     },
     "execution_count": 2,
     "metadata": {},
     "output_type": "execute_result"
    }
   ],
   "source": [
    "input = readdlm(\"2.input\", Int)"
   ]
  },
  {
   "cell_type": "code",
   "execution_count": 3,
   "metadata": {},
   "outputs": [
    {
     "data": {
      "text/plain": [
       "41919"
      ]
     },
     "execution_count": 3,
     "metadata": {},
     "output_type": "execute_result"
    }
   ],
   "source": [
    "sum(mapslices(a -> maximum(a) - minimum(a), input, 2))"
   ]
  },
  {
   "cell_type": "code",
   "execution_count": 4,
   "metadata": {},
   "outputs": [
    {
     "data": {
      "text/plain": [
       "303.0"
      ]
     },
     "execution_count": 4,
     "metadata": {},
     "output_type": "execute_result"
    }
   ],
   "source": [
    "s = mapslices(a -> [(i, j) for i in a for j in a if i != j], input, 2)\n",
    "sum(map(t -> t[1] / t[2], mapslices(a -> a[findfirst(t -> t[1] % t[2] == 0, a)], s, 2)))"
   ]
  },
  {
   "cell_type": "code",
   "execution_count": null,
   "metadata": {},
   "outputs": [],
   "source": []
  }
 ],
 "metadata": {
  "kernelspec": {
   "display_name": "Julia 0.6.0",
   "language": "julia",
   "name": "julia-0.6"
  },
  "language_info": {
   "file_extension": ".jl",
   "mimetype": "application/julia",
   "name": "julia",
   "version": "0.6.0"
  }
 },
 "nbformat": 4,
 "nbformat_minor": 2
}
