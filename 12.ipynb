{
 "cells": [
  {
   "cell_type": "code",
   "execution_count": 76,
   "metadata": {},
   "outputs": [
    {
     "data": {
      "text/plain": [
       "2000-element Array{String,1}:\n",
       " \"0 <-> 780, 1330\"               \n",
       " \"1 <-> 264, 595, 1439\"          \n",
       " \"2 <-> 296, 531, 1440\"          \n",
       " \"3 <-> 207, 235, 1038\"          \n",
       " \"4 <-> 554, 1295\"               \n",
       " \"5 <-> 159, 568, 1381\"          \n",
       " \"6 <-> 1134\"                    \n",
       " \"7 <-> 1472, 1977\"              \n",
       " \"8 <-> 704\"                     \n",
       " \"9 <-> 783, 1082, 1795\"         \n",
       " \"10 <-> 46, 653, 958\"           \n",
       " \"11 <-> 55, 1931\"               \n",
       " \"12 <-> 12\"                     \n",
       " ⋮                               \n",
       " \"1988 <-> 112, 1683\"            \n",
       " \"1989 <-> 555, 1051, 1213, 1744\"\n",
       " \"1990 <-> 1637\"                 \n",
       " \"1991 <-> 1991\"                 \n",
       " \"1992 <-> 31, 133, 821\"         \n",
       " \"1993 <-> 1546, 1897\"           \n",
       " \"1994 <-> 603, 1975\"            \n",
       " \"1995 <-> 325\"                  \n",
       " \"1996 <-> 1996\"                 \n",
       " \"1997 <-> 14, 1093\"             \n",
       " \"1998 <-> 1002\"                 \n",
       " \"1999 <-> 708\"                  "
      ]
     },
     "execution_count": 76,
     "metadata": {},
     "output_type": "execute_result"
    }
   ],
   "source": [
    "input = readlines(\"12.input\")"
   ]
  },
  {
   "cell_type": "code",
   "execution_count": 77,
   "metadata": {
    "scrolled": true
   },
   "outputs": [
    {
     "data": {
      "text/plain": [
       "Dict{Int64,Set{Int64}} with 2000 entries:\n",
       "  1704 => Set([1545, 628])\n",
       "  1760 => Set([275, 209])\n",
       "  306  => Set([1861, 105])\n",
       "  1316 => Set([59, 1436, 265, 1872])\n",
       "  1090 => Set([879, 1288, 1208])\n",
       "  1333 => Set([1544])\n",
       "  29   => Set([29])\n",
       "  1671 => Set([1256])\n",
       "  1131 => Set([1151])\n",
       "  74   => Set([168, 175])\n",
       "  1662 => Set([33, 1726])\n",
       "  1265 => Set([928, 1376, 1629])\n",
       "  905  => Set([706, 1984])\n",
       "  176  => Set([1421])\n",
       "  1469 => Set([1603])\n",
       "  892  => Set([1072, 1378, 1510])\n",
       "  285  => Set([680, 880, 1896])\n",
       "  1461 => Set([59])\n",
       "  1881 => Set([394, 1728])\n",
       "  1693 => Set([1183, 197, 1234])\n",
       "  1481 => Set([437])\n",
       "  318  => Set([318])\n",
       "  1124 => Set([294])\n",
       "  1337 => Set([940, 637])\n",
       "  873  => Set([161, 746, 1413])\n",
       "  ⋮    => ⋮"
      ]
     },
     "execution_count": 77,
     "metadata": {},
     "output_type": "execute_result"
    }
   ],
   "source": [
    "a = map(l -> replace(l, \"<->\", \",\"), input)\n",
    "a = map(l -> replace(l, \" \", \"\"), a)\n",
    "a = map(l -> split(l, \",\"), a)\n",
    "a = map(l -> map(parse, l), a)\n",
    "a = Dict(l[1] => Set(l[2:end]) for l in a)"
   ]
  },
  {
   "cell_type": "code",
   "execution_count": 78,
   "metadata": {},
   "outputs": [],
   "source": [
    "s = Set()\n",
    "while true\n",
    "    ss = length(s)\n",
    "    for (k, v) in a\n",
    "        if k in s\n",
    "            continue\n",
    "        end\n",
    "        for (k_, v_) in a\n",
    "            if k in v_\n",
    "                union!(v_, v)\n",
    "                union!(s, k)\n",
    "            end\n",
    "        end\n",
    "    end\n",
    "    if length(s) == ss\n",
    "        break\n",
    "    end\n",
    "end"
   ]
  },
  {
   "cell_type": "code",
   "execution_count": 79,
   "metadata": {},
   "outputs": [
    {
     "data": {
      "text/plain": [
       "380"
      ]
     },
     "execution_count": 79,
     "metadata": {},
     "output_type": "execute_result"
    }
   ],
   "source": [
    "length(a[0])"
   ]
  },
  {
   "cell_type": "code",
   "execution_count": 80,
   "metadata": {},
   "outputs": [
    {
     "data": {
      "text/plain": [
       "181"
      ]
     },
     "execution_count": 80,
     "metadata": {},
     "output_type": "execute_result"
    }
   ],
   "source": [
    "length(unique(values(a)))"
   ]
  }
 ],
 "metadata": {
  "kernelspec": {
   "display_name": "Julia 0.6.0",
   "language": "julia",
   "name": "julia-0.6"
  },
  "language_info": {
   "file_extension": ".jl",
   "mimetype": "application/julia",
   "name": "julia",
   "version": "0.6.0"
  }
 },
 "nbformat": 4,
 "nbformat_minor": 2
}
