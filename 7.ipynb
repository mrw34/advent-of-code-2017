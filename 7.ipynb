{
 "cells": [
  {
   "cell_type": "code",
   "execution_count": 63,
   "metadata": {},
   "outputs": [
    {
     "data": {
      "text/plain": [
       "1454×10 Array{Any,2}:\n",
       " \"bxlur\"    \"(38)\"     \"\"    \"\"          …  \"\"          \"\"         \"\"  \"\"\n",
       " \"vgeifn\"   \"(90)\"     \"\"    \"\"             \"\"          \"\"         \"\"  \"\"\n",
       " \"ehsqyyb\"  \"(174)\"    \"->\"  \"xtcdt,\"       \"cxdwmu\"    \"\"         \"\"  \"\"\n",
       " \"xeqle\"    \"(55)\"     \"\"    \"\"             \"\"          \"\"         \"\"  \"\"\n",
       " \"rvycd\"    \"(1905)\"   \"->\"  \"hspnsfg,\"     \"\"          \"\"         \"\"  \"\"\n",
       " \"lvohqo\"   \"(41)\"     \"\"    \"\"          …  \"\"          \"\"         \"\"  \"\"\n",
       " \"vbiwa\"    \"(88)\"     \"\"    \"\"             \"\"          \"\"         \"\"  \"\"\n",
       " \"jwvkdyy\"  \"(25)\"     \"->\"  \"eblot,\"       \"upilubg\"   \"\"         \"\"  \"\"\n",
       " \"ymednx\"   \"(75)\"     \"\"    \"\"             \"\"          \"\"         \"\"  \"\"\n",
       " \"snqeb\"    \"(24)\"     \"\"    \"\"             \"\"          \"\"         \"\"  \"\"\n",
       " \"rrnhzu\"   \"(72)\"     \"\"    \"\"          …  \"\"          \"\"         \"\"  \"\"\n",
       " \"arouyz\"   \"(59)\"     \"\"    \"\"             \"\"          \"\"         \"\"  \"\"\n",
       " \"bgkxjiw\"  \"(75)\"     \"\"    \"\"             \"\"          \"\"         \"\"  \"\"\n",
       " ⋮                                       ⋱                               \n",
       " \"abhtg\"    \"(81)\"     \"\"    \"\"             \"\"          \"\"         \"\"  \"\"\n",
       " \"iscthbd\"  \"(80)\"     \"\"    \"\"             \"\"          \"\"         \"\"  \"\"\n",
       " \"gkgxg\"    \"(36)\"     \"\"    \"\"             \"\"          \"\"         \"\"  \"\"\n",
       " \"wdugfj\"   \"(72519)\"  \"->\"  \"qdqkaw,\"   …  \"kbbgkmr,\"  \"uxsrdpn\"  \"\"  \"\"\n",
       " \"xizhxs\"   \"(18)\"     \"\"    \"\"             \"\"          \"\"         \"\"  \"\"\n",
       " \"qvtxsu\"   \"(23)\"     \"\"    \"\"             \"\"          \"\"         \"\"  \"\"\n",
       " \"nxnegu\"   \"(32)\"     \"\"    \"\"             \"\"          \"\"         \"\"  \"\"\n",
       " \"lugtnb\"   \"(33)\"     \"\"    \"\"             \"\"          \"\"         \"\"  \"\"\n",
       " \"jscgykv\"  \"(5)\"      \"\"    \"\"          …  \"\"          \"\"         \"\"  \"\"\n",
       " \"jbmclpv\"  \"(55)\"     \"\"    \"\"             \"\"          \"\"         \"\"  \"\"\n",
       " \"abphjyv\"  \"(187)\"    \"->\"  \"elwic,\"       \"\"          \"\"         \"\"  \"\"\n",
       " \"uhcach\"   \"(18)\"     \"\"    \"\"             \"\"          \"\"         \"\"  \"\""
      ]
     },
     "execution_count": 63,
     "metadata": {},
     "output_type": "execute_result"
    }
   ],
   "source": [
    "input = readdlm(\"7.input\")"
   ]
  },
  {
   "cell_type": "code",
   "execution_count": 64,
   "metadata": {},
   "outputs": [
    {
     "data": {
      "text/plain": [
       "Set(Any[\"mkxke\"])"
      ]
     },
     "execution_count": 64,
     "metadata": {},
     "output_type": "execute_result"
    }
   ],
   "source": [
    "a = Set()\n",
    "for i in 1:size(input, 1)\n",
    "    union!(a, filter(e -> length(e) != 0, map(e -> rstrip(e, ','), input[i, 4:end])))\n",
    "end\n",
    "setdiff(Set(input[:, 1]), a)"
   ]
  },
  {
   "cell_type": "code",
   "execution_count": 65,
   "metadata": {},
   "outputs": [],
   "source": [
    "b = Dict()\n",
    "c = Dict()\n",
    "for i in 1:size(input, 1)\n",
    "    b[input[i]] = parse(strip(input[i, 2], ['(', ')']))\n",
    "    c[input[i]] = filter(e -> length(e) != 0, map(e -> rstrip(e, ','), input[i, 4:end]))\n",
    "end"
   ]
  },
  {
   "cell_type": "code",
   "execution_count": 66,
   "metadata": {},
   "outputs": [
    {
     "data": {
      "text/plain": [
       "Set(Any[\"mkxke\"])"
      ]
     },
     "execution_count": 66,
     "metadata": {},
     "output_type": "execute_result"
    }
   ],
   "source": [
    "a = Set()\n",
    "for i in values(c)\n",
    "    union!(a, i)\n",
    "end\n",
    "setdiff(Set(keys(c)), a)"
   ]
  },
  {
   "cell_type": "code",
   "execution_count": 67,
   "metadata": {},
   "outputs": [
    {
     "ename": "LoadError",
     "evalue": "\u001b[91mftaxy [1144, 1153, 1144, 1144, 1144, 1144, 1144] SubString{String}[\"lkjbvw\", \"gexwzw\", \"cqoca\", \"xezjpye\", \"ftquc\", \"gggibf\", \"ferhk\"]\u001b[39m",
     "output_type": "error",
     "traceback": [
      "\u001b[91mftaxy [1144, 1153, 1144, 1144, 1144, 1144, 1144] SubString{String}[\"lkjbvw\", \"gexwzw\", \"cqoca\", \"xezjpye\", \"ftquc\", \"gggibf\", \"ferhk\"]\u001b[39m",
      "",
      "Stacktrace:",
      " [1] \u001b[1mf\u001b[22m\u001b[22m\u001b[1m(\u001b[22m\u001b[22m::SubString{String}\u001b[1m)\u001b[22m\u001b[22m at \u001b[1m./In[67]:7\u001b[22m\u001b[22m",
      " [2] \u001b[1m_collect\u001b[22m\u001b[22m\u001b[1m(\u001b[22m\u001b[22m::Array{SubString{String},1}, ::Base.Generator{Array{SubString{String},1},#f}, ::Base.EltypeUnknown, ::Base.HasShape\u001b[1m)\u001b[22m\u001b[22m at \u001b[1m./array.jl:454\u001b[22m\u001b[22m",
      " [3] \u001b[1mmap\u001b[22m\u001b[22m\u001b[1m(\u001b[22m\u001b[22m::Function, ::Array{SubString{String},1}\u001b[1m)\u001b[22m\u001b[22m at \u001b[1m./abstractarray.jl:1865\u001b[22m\u001b[22m",
      " [4] \u001b[1mf\u001b[22m\u001b[22m\u001b[1m(\u001b[22m\u001b[22m::SubString{String}\u001b[1m)\u001b[22m\u001b[22m at \u001b[1m./In[67]:5\u001b[22m\u001b[22m",
      " [5] \u001b[1mcollect_to!\u001b[22m\u001b[22m\u001b[1m(\u001b[22m\u001b[22m::Array{Int64,1}, ::Base.Generator{Array{SubString{String},1},#f}, ::Int64, ::Int64\u001b[1m)\u001b[22m\u001b[22m at \u001b[1m./array.jl:474\u001b[22m\u001b[22m",
      " [6] \u001b[1m_collect\u001b[22m\u001b[22m\u001b[1m(\u001b[22m\u001b[22m::Array{SubString{String},1}, ::Base.Generator{Array{SubString{String},1},#f}, ::Base.EltypeUnknown, ::Base.HasShape\u001b[1m)\u001b[22m\u001b[22m at \u001b[1m./array.jl:455\u001b[22m\u001b[22m",
      " [7] \u001b[1mmap\u001b[22m\u001b[22m\u001b[1m(\u001b[22m\u001b[22m::Function, ::Array{SubString{String},1}\u001b[1m)\u001b[22m\u001b[22m at \u001b[1m./abstractarray.jl:1865\u001b[22m\u001b[22m",
      " [8] \u001b[1mf\u001b[22m\u001b[22m\u001b[1m(\u001b[22m\u001b[22m::String\u001b[1m)\u001b[22m\u001b[22m at \u001b[1m./In[67]:5\u001b[22m\u001b[22m",
      " [9] \u001b[1minclude_string\u001b[22m\u001b[22m\u001b[1m(\u001b[22m\u001b[22m::String, ::String\u001b[1m)\u001b[22m\u001b[22m at \u001b[1m./loading.jl:515\u001b[22m\u001b[22m"
     ]
    }
   ],
   "source": [
    "function f(k)\n",
    "    if length(c[k]) == 0\n",
    "        b[k]\n",
    "    else\n",
    "        d = map(f, c[k])\n",
    "        if !(all(y->y==d[1], d))\n",
    "            error(k, \" \", d, \" \", c[k])\n",
    "        end\n",
    "        b[k] + sum(d)\n",
    "    end\n",
    "end\n",
    "f(\"mkxke\")"
   ]
  },
  {
   "cell_type": "code",
   "execution_count": 68,
   "metadata": {},
   "outputs": [
    {
     "data": {
      "text/plain": [
       "268"
      ]
     },
     "execution_count": 68,
     "metadata": {},
     "output_type": "execute_result"
    }
   ],
   "source": [
    "b[\"gexwzw\"] - (1153 - 1144)"
   ]
  }
 ],
 "metadata": {
  "kernelspec": {
   "display_name": "Julia 0.6.0",
   "language": "julia",
   "name": "julia-0.6"
  },
  "language_info": {
   "file_extension": ".jl",
   "mimetype": "application/julia",
   "name": "julia",
   "version": "0.6.0"
  }
 },
 "nbformat": 4,
 "nbformat_minor": 2
}
