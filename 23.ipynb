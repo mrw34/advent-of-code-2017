{
 "cells": [
  {
   "cell_type": "code",
   "execution_count": 1,
   "metadata": {
    "scrolled": true
   },
   "outputs": [
    {
     "data": {
      "text/plain": [
       "32-element Array{Array{T,1} where T,1}:\n",
       " Any[\"set\", \"b\", 65]               \n",
       " SubString{String}[\"set\", \"c\", \"b\"]\n",
       " Any[\"jnz\", \"a\", 2]                \n",
       " Any[\"jnz\", 1, 5]                  \n",
       " Any[\"mul\", \"b\", 100]              \n",
       " Any[\"sub\", \"b\", -100000]          \n",
       " SubString{String}[\"set\", \"c\", \"b\"]\n",
       " Any[\"sub\", \"c\", -17000]           \n",
       " Any[\"set\", \"f\", 1]                \n",
       " Any[\"set\", \"d\", 2]                \n",
       " Any[\"set\", \"e\", 2]                \n",
       " SubString{String}[\"set\", \"g\", \"d\"]\n",
       " SubString{String}[\"mul\", \"g\", \"e\"]\n",
       " ⋮                                 \n",
       " Any[\"sub\", \"d\", -1]               \n",
       " SubString{String}[\"set\", \"g\", \"d\"]\n",
       " SubString{String}[\"sub\", \"g\", \"b\"]\n",
       " Any[\"jnz\", \"g\", -13]              \n",
       " Any[\"jnz\", \"f\", 2]                \n",
       " Any[\"sub\", \"h\", -1]               \n",
       " SubString{String}[\"set\", \"g\", \"b\"]\n",
       " SubString{String}[\"sub\", \"g\", \"c\"]\n",
       " Any[\"jnz\", \"g\", 2]                \n",
       " Any[\"jnz\", 1, 3]                  \n",
       " Any[\"sub\", \"b\", -17]              \n",
       " Any[\"jnz\", 1, -23]                "
      ]
     },
     "execution_count": 1,
     "metadata": {},
     "output_type": "execute_result"
    }
   ],
   "source": [
    "input = map(split.(readlines(\"23.input\"))) do e\n",
    "   [\n",
    "        e[1]\n",
    "        isa(parse(e[2]), Number) ? parse(e[2]) : e[2]\n",
    "        isa(parse(e[3]), Number) ? parse(e[3]) : e[3]\n",
    "    ]\n",
    "end"
   ]
  },
  {
   "cell_type": "code",
   "execution_count": 2,
   "metadata": {},
   "outputs": [
    {
     "data": {
      "text/plain": [
       "3969"
      ]
     },
     "execution_count": 2,
     "metadata": {},
     "output_type": "execute_result"
    }
   ],
   "source": [
    "b = 1\n",
    "c = Dict(k => 0 for k in (\"a\", \"b\", \"c\", \"d\", \"e\", \"f\", \"g\", \"h\"))\n",
    "e = 0\n",
    "while 1 <= b <= length(input)\n",
    "    d = input[b]\n",
    "    f = isa(d[3], Number) ? d[3] : c[d[3]]\n",
    "    if d[1] == \"set\"\n",
    "        c[d[2]] = f\n",
    "    elseif d[1] == \"sub\"\n",
    "        c[d[2]] -= f\n",
    "    elseif d[1] == \"mul\"\n",
    "        c[d[2]] *= f\n",
    "        e += 1\n",
    "    elseif d[1] == \"jnz\"\n",
    "        g = isa(d[2], Number) ? d[2] : c[d[2]]\n",
    "        if g != 0\n",
    "            b += f\n",
    "            continue\n",
    "        end\n",
    "    end        \n",
    "    b += 1\n",
    "end\n",
    "e"
   ]
  },
  {
   "cell_type": "code",
   "execution_count": 3,
   "metadata": {},
   "outputs": [
    {
     "data": {
      "text/plain": [
       "917"
      ]
     },
     "execution_count": 3,
     "metadata": {},
     "output_type": "execute_result"
    }
   ],
   "source": [
    "c = 0\n",
    "for n in 106500:17:123500\n",
    "    if !isempty([i for i in 2:ceil(sqrt(n)) if n % i == 0])\n",
    "        c += 1\n",
    "    end\n",
    "end\n",
    "c                            "
   ]
  },
  {
   "cell_type": "code",
   "execution_count": null,
   "metadata": {},
   "outputs": [],
   "source": []
  }
 ],
 "metadata": {
  "kernelspec": {
   "display_name": "Julia 0.6.2",
   "language": "julia",
   "name": "julia-0.6"
  },
  "language_info": {
   "file_extension": ".jl",
   "mimetype": "application/julia",
   "name": "julia",
   "version": "0.6.2"
  }
 },
 "nbformat": 4,
 "nbformat_minor": 2
}
