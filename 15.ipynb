{
 "cells": [
  {
   "cell_type": "code",
   "execution_count": 26,
   "metadata": {},
   "outputs": [
    {
     "data": {
      "text/plain": [
       "631"
      ]
     },
     "execution_count": 26,
     "metadata": {},
     "output_type": "execute_result"
    }
   ],
   "source": [
    "a = 873\n",
    "b = 583\n",
    "c = 0\n",
    "for i in 1:40000000\n",
    "    a = (a * 16807) % 2147483647\n",
    "    b = (b * 48271) % 2147483647\n",
    "    if bin(a, 32)[17:end] == bin(b, 32)[17:end]\n",
    "        c += 1\n",
    "    end\n",
    "end\n",
    "c"
   ]
  },
  {
   "cell_type": "code",
   "execution_count": 29,
   "metadata": {},
   "outputs": [
    {
     "data": {
      "text/plain": [
       "279"
      ]
     },
     "execution_count": 29,
     "metadata": {},
     "output_type": "execute_result"
    }
   ],
   "source": [
    "a = 873\n",
    "b = 583\n",
    "c = 0\n",
    "as = []\n",
    "bs = []\n",
    "d = 0\n",
    "while d <= 5000000\n",
    "    a = (a * 16807) % 2147483647\n",
    "    if a % 4 == 0\n",
    "        if length(bs) != 0\n",
    "            d += 1\n",
    "            if bin(shift!(bs), 32)[17:end] == bin(a, 32)[17:end]\n",
    "                c += 1\n",
    "            end\n",
    "        else\n",
    "            push!(as, a)\n",
    "        end\n",
    "    end\n",
    "    b = (b * 48271) % 2147483647\n",
    "    if b % 8 == 0\n",
    "        if length(as) != 0\n",
    "            d +=1 \n",
    "            if bin(shift!(as), 32)[17:end] == bin(b, 32)[17:end]\n",
    "                c += 1\n",
    "            end\n",
    "        else\n",
    "            push!(bs, b)\n",
    "        end\n",
    "    end\n",
    "end\n",
    "c"
   ]
  },
  {
   "cell_type": "code",
   "execution_count": null,
   "metadata": {},
   "outputs": [],
   "source": []
  }
 ],
 "metadata": {
  "kernelspec": {
   "display_name": "Julia 0.6.0",
   "language": "julia",
   "name": "julia-0.6"
  },
  "language_info": {
   "file_extension": ".jl",
   "mimetype": "application/julia",
   "name": "julia",
   "version": "0.6.0"
  }
 },
 "nbformat": 4,
 "nbformat_minor": 2
}
