{
 "cells": [
  {
   "cell_type": "code",
   "execution_count": 1,
   "metadata": {},
   "outputs": [
    {
     "data": {
      "text/plain": [
       "1000-element Array{Array{SubString{String},1},1}:\n",
       " SubString{String}[\"p=<-4897,3080,2133>\", \"v=<-58,-15,-78>\", \"a=<17,-7,0>\"]     \n",
       " SubString{String}[\"p=<395,-997,4914>\", \"v=<-30,66,-69>\", \"a=<1,-2,-8>\"]        \n",
       " SubString{String}[\"p=<-334,-754,-567>\", \"v=<-31,15,-34>\", \"a=<3,1,4>\"]         \n",
       " SubString{String}[\"p=<-1576,-1645,-6102>\", \"v=<1,-22,45>\", \"a=<4,6,13>\"]       \n",
       " SubString{String}[\"p=<935,-3535,7830>\", \"v=<-50,62,-135>\", \"a=<1,5,-11>\"]      \n",
       " SubString{String}[\"p=<4607,-6775,-5049>\", \"v=<-46,112,48>\", \"a=<-9,10,10>\"]    \n",
       " SubString{String}[\"p=<-1981,-3292,2403>\", \"v=<86,11,-46>\", \"a=<-1,8,-3>\"]      \n",
       " SubString{String}[\"p=<3716,6266,-2052>\", \"v=<-125,-133,35>\", \"a=<-1,-7,3>\"]    \n",
       " SubString{String}[\"p=<2164,2592,-1087>\", \"v=<-83,8,19>\", \"a=<-2,-12,3>\"]       \n",
       " SubString{String}[\"p=<5797,-2511,-1129>\", \"v=<-135,64,10>\", \"a=<-13,5,4>\"]     \n",
       " SubString{String}[\"p=<631,513,551>\", \"v=<12,-47,-70>\", \"a=<-4,2,4>\"]           \n",
       " SubString{String}[\"p=<379,471,2441>\", \"v=<68,65,-149>\", \"a=<-8,-8,3>\"]         \n",
       " SubString{String}[\"p=<-860,618,740>\", \"v=<182,47,-35>\", \"a=<-13,-7,0>\"]        \n",
       " ⋮                                                                              \n",
       " SubString{String}[\"p=<-3347,-195,234>\", \"v=<-482,-24,29>\", \"a=<35,2,2>\"]       \n",
       " SubString{String}[\"p=<2383,1814,-762>\", \"v=<338,256,-109>\", \"a=<-23,-22,9>\"]   \n",
       " SubString{String}[\"p=<1637,-2771,-359>\", \"v=<235,-395,-53>\", \"a=<-21,27,7>\"]   \n",
       " SubString{String}[\"p=<-2230,1367,-1226>\", \"v=<-323,197,-175>\", \"a=<21,-15,12>\"]\n",
       " SubString{String}[\"p=<-588,446,-2644>\", \"v=<-79,63,-376>\", \"a=<2,-3,25>\"]      \n",
       " SubString{String}[\"p=<2969,-166,162>\", \"v=<431,-21,17>\", \"a=<-29,0,2>\"]        \n",
       " SubString{String}[\"p=<-2984,-42,1373>\", \"v=<-421,-9,201>\", \"a=<31,1,-16>\"]     \n",
       " SubString{String}[\"p=<-2275,-1785,-782>\", \"v=<-330,-259,-110>\", \"a=<22,13,10>\"]\n",
       " SubString{String}[\"p=<2836,-369,-1308>\", \"v=<406,-52,-185>\", \"a=<-29,3,15>\"]   \n",
       " SubString{String}[\"p=<1123,-375,2609>\", \"v=<155,-50,377>\", \"a=<-11,2,-29>\"]    \n",
       " SubString{String}[\"p=<662,3234,-655>\", \"v=<89,462,-90>\", \"a=<-2,-31,2>\"]       \n",
       " SubString{String}[\"p=<683,2541,-1586>\", \"v=<103,363,-226>\", \"a=<-4,-27,14>\"]   "
      ]
     },
     "execution_count": 1,
     "metadata": {},
     "output_type": "execute_result"
    }
   ],
   "source": [
    "input = split.(readlines(\"20.input\"), \", \")"
   ]
  },
  {
   "cell_type": "code",
   "execution_count": 2,
   "metadata": {},
   "outputs": [
    {
     "data": {
      "text/plain": [
       "308"
      ]
     },
     "execution_count": 2,
     "metadata": {},
     "output_type": "execute_result"
    }
   ],
   "source": [
    "z = map(e -> map(f -> map(parse, split(replace(split(f, \"=\")[2], r\"<|>\", \"\"), \",\")), e), input)\n",
    "for j in 1:1000\n",
    "    for (i, e) in enumerate(z)\n",
    "        e[2] += e[3]\n",
    "        e[1] += e[2]\n",
    "    end\n",
    "end\n",
    "mi = 0\n",
    "mp = -1\n",
    "for (i, e) in enumerate(z)\n",
    "    p = abs(e[1][1]) + abs(e[1][2]) + abs(e[1][3])\n",
    "    if mi == 0 || p < mp\n",
    "        mp, mi = p, i\n",
    "    end\n",
    "end\n",
    "mi - 1"
   ]
  },
  {
   "cell_type": "code",
   "execution_count": 3,
   "metadata": {},
   "outputs": [],
   "source": [
    "# z = map(e -> map(f -> map(parse, split(replace(split(f, \"=\")[2], r\"<|>\", \"\"), \",\")), e), input)\n",
    "# ma = -1\n",
    "# mv = -1\n",
    "# mp = -1\n",
    "# mi = -1\n",
    "# for (i, e) in enumerate(z)\n",
    "#     a = abs(e[3][1]) + abs(e[3][2]) + abs(e[3][3])\n",
    "#     v = abs(e[2][1]) + abs(e[2][2]) + abs(e[2][3])\n",
    "#     p = abs(e[1][1]) + abs(e[1][2]) + abs(e[1][3])\n",
    "#     if mi == -1 || a < ma || (a == ma && v < mv) || (a == ma && v == mv && p < mp)\n",
    "#         ma = a\n",
    "#         mv = v\n",
    "#         mp = p\n",
    "#         mi = i\n",
    "#     end\n",
    "# end\n",
    "# mi - 1"
   ]
  },
  {
   "cell_type": "code",
   "execution_count": 4,
   "metadata": {},
   "outputs": [
    {
     "data": {
      "text/plain": [
       "504"
      ]
     },
     "execution_count": 4,
     "metadata": {},
     "output_type": "execute_result"
    }
   ],
   "source": [
    "z = map(e -> map(f -> map(parse, split(replace(split(f, \"=\")[2], r\"<|>\", \"\"), \",\")), e), input)\n",
    "for _ in 1:1000\n",
    "    for e in z\n",
    "        e[2] += e[3]\n",
    "        e[1] += e[2]\n",
    "    end\n",
    "    c = Dict()\n",
    "    for e in z\n",
    "        c[e[1]] = get(c, e[1], 0) + 1\n",
    "    end\n",
    "    for i in length(z):-1:1\n",
    "        if c[z[i][1]] > 1\n",
    "            deleteat!(z, i)\n",
    "        end\n",
    "    end\n",
    "end\n",
    "length(z)"
   ]
  },
  {
   "cell_type": "code",
   "execution_count": null,
   "metadata": {},
   "outputs": [],
   "source": []
  }
 ],
 "metadata": {
  "kernelspec": {
   "display_name": "Julia 0.6.2",
   "language": "julia",
   "name": "julia-0.6"
  },
  "language_info": {
   "file_extension": ".jl",
   "mimetype": "application/julia",
   "name": "julia",
   "version": "0.6.2"
  }
 },
 "nbformat": 4,
 "nbformat_minor": 2
}
