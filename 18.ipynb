{
 "cells": [
  {
   "cell_type": "code",
   "execution_count": 19,
   "metadata": {},
   "outputs": [
    {
     "data": {
      "text/plain": [
       "41-element Array{String,1}:\n",
       " \"set i 31\"    \n",
       " \"set a 1\"     \n",
       " \"mul p 17\"    \n",
       " \"jgz p p\"     \n",
       " \"mul a 2\"     \n",
       " \"add i -1\"    \n",
       " \"jgz i -2\"    \n",
       " \"add a -1\"    \n",
       " \"set i 127\"   \n",
       " \"set p 316\"   \n",
       " \"mul p 8505\"  \n",
       " \"mod p a\"     \n",
       " \"mul p 129749\"\n",
       " ⋮             \n",
       " \"add p b\"     \n",
       " \"jgz p 4\"     \n",
       " \"snd a\"       \n",
       " \"set a b\"     \n",
       " \"jgz 1 3\"     \n",
       " \"snd b\"       \n",
       " \"set f 1\"     \n",
       " \"add i -1\"    \n",
       " \"jgz i -11\"   \n",
       " \"snd a\"       \n",
       " \"jgz f -16\"   \n",
       " \"jgz a -19\"   "
      ]
     },
     "execution_count": 19,
     "metadata": {},
     "output_type": "execute_result"
    }
   ],
   "source": [
    "input = readlines(\"18.input\")"
   ]
  },
  {
   "cell_type": "code",
   "execution_count": 20,
   "metadata": {},
   "outputs": [
    {
     "data": {
      "text/plain": [
       "41-element Array{Array{SubString{String},1},1}:\n",
       " SubString{String}[\"set\", \"i\", \"31\"]    \n",
       " SubString{String}[\"set\", \"a\", \"1\"]     \n",
       " SubString{String}[\"mul\", \"p\", \"17\"]    \n",
       " SubString{String}[\"jgz\", \"p\", \"p\"]     \n",
       " SubString{String}[\"mul\", \"a\", \"2\"]     \n",
       " SubString{String}[\"add\", \"i\", \"-1\"]    \n",
       " SubString{String}[\"jgz\", \"i\", \"-2\"]    \n",
       " SubString{String}[\"add\", \"a\", \"-1\"]    \n",
       " SubString{String}[\"set\", \"i\", \"127\"]   \n",
       " SubString{String}[\"set\", \"p\", \"316\"]   \n",
       " SubString{String}[\"mul\", \"p\", \"8505\"]  \n",
       " SubString{String}[\"mod\", \"p\", \"a\"]     \n",
       " SubString{String}[\"mul\", \"p\", \"129749\"]\n",
       " ⋮                                      \n",
       " SubString{String}[\"add\", \"p\", \"b\"]     \n",
       " SubString{String}[\"jgz\", \"p\", \"4\"]     \n",
       " SubString{String}[\"snd\", \"a\"]          \n",
       " SubString{String}[\"set\", \"a\", \"b\"]     \n",
       " SubString{String}[\"jgz\", \"1\", \"3\"]     \n",
       " SubString{String}[\"snd\", \"b\"]          \n",
       " SubString{String}[\"set\", \"f\", \"1\"]     \n",
       " SubString{String}[\"add\", \"i\", \"-1\"]    \n",
       " SubString{String}[\"jgz\", \"i\", \"-11\"]   \n",
       " SubString{String}[\"snd\", \"a\"]          \n",
       " SubString{String}[\"jgz\", \"f\", \"-16\"]   \n",
       " SubString{String}[\"jgz\", \"a\", \"-19\"]   "
      ]
     },
     "execution_count": 20,
     "metadata": {},
     "output_type": "execute_result"
    }
   ],
   "source": [
    "a = split.(input)"
   ]
  },
  {
   "cell_type": "code",
   "execution_count": 21,
   "metadata": {},
   "outputs": [
    {
     "data": {
      "text/plain": [
       "2951"
      ]
     },
     "execution_count": 21,
     "metadata": {},
     "output_type": "execute_result"
    }
   ],
   "source": [
    "b = 1\n",
    "c = Dict()\n",
    "e = -1\n",
    "while true\n",
    "    d = a[b]\n",
    "    if d[1] == \"snd\"\n",
    "        e = c[d[2]]\n",
    "    elseif d[1] == \"rcv\"\n",
    "        if c[d[2]] != 0\n",
    "            break\n",
    "        end\n",
    "    else\n",
    "        f = isa(parse(d[3]), Number) ? parse(d[3]) : c[d[3]]\n",
    "        if d[1] == \"set\"\n",
    "            c[d[2]] = f\n",
    "        elseif d[1] == \"add\"\n",
    "            c[d[2]] = c[d[2]] + f\n",
    "        elseif d[1] == \"mul\"\n",
    "            c[d[2]] = get(c, d[2], 0) * f\n",
    "        elseif d[1] == \"mod\"\n",
    "            c[d[2]] = mod(c[d[2]], f)\n",
    "        elseif d[1] == \"jgz\"\n",
    "            if c[d[2]] > 0\n",
    "                b += f\n",
    "                continue\n",
    "            end\n",
    "        end        \n",
    "    end\n",
    "    b += 1\n",
    "end\n",
    "e"
   ]
  },
  {
   "cell_type": "code",
   "execution_count": 22,
   "metadata": {},
   "outputs": [
    {
     "data": {
      "text/plain": [
       "7366"
      ]
     },
     "execution_count": 22,
     "metadata": {},
     "output_type": "execute_result"
    }
   ],
   "source": [
    "xb = 1\n",
    "xc = Dict(\"p\"=>0)\n",
    "xe = []\n",
    "xg = false\n",
    "xh = 0\n",
    "yb = 1\n",
    "yc = Dict(\"p\"=>1)\n",
    "ye = []\n",
    "yg = false\n",
    "yh = 0\n",
    "while true\n",
    "    d = a[xb]\n",
    "    if d[1] == \"snd\"\n",
    "        push!(ye, isa(parse(d[2]), Number) ? parse(d[2]) : xc[d[2]])\n",
    "        xh += 1\n",
    "        xb += 1\n",
    "    elseif d[1] == \"rcv\"\n",
    "        if length(xe) == 0\n",
    "            if yg == true\n",
    "                break\n",
    "            end\n",
    "            xg = true\n",
    "        else\n",
    "            xc[d[2]] = shift!(xe)\n",
    "            xg = false\n",
    "            xb += 1\n",
    "        end\n",
    "    else\n",
    "        f = isa(parse(d[3]), Number) ? parse(d[3]) : xc[d[3]]\n",
    "        if d[1] == \"jgz\"\n",
    "            g = isa(parse(d[2]), Number) ? parse(d[2]) : xc[d[2]]\n",
    "            xb += g > 0 ? f : 1\n",
    "        else\n",
    "            if d[1] == \"set\"\n",
    "                xc[d[2]] = f\n",
    "            elseif d[1] == \"add\"\n",
    "                xc[d[2]] = xc[d[2]] + f\n",
    "            elseif d[1] == \"mul\"\n",
    "                xc[d[2]] = get(xc, d[2], 0) * f\n",
    "            elseif d[1] == \"mod\"\n",
    "                xc[d[2]] = mod(xc[d[2]], f)\n",
    "            end\n",
    "            xb += 1\n",
    "        end\n",
    "    end\n",
    "\n",
    "    d = a[yb]\n",
    "    if d[1] == \"snd\"\n",
    "        push!(xe, isa(parse(d[2]), Number) ? parse(d[2]) : yc[d[2]])\n",
    "        yh += 1\n",
    "        yb += 1\n",
    "    elseif d[1] == \"rcv\"\n",
    "        if length(ye) == 0\n",
    "            if xg == true\n",
    "                break\n",
    "            end\n",
    "            yg = true\n",
    "        else\n",
    "            yc[d[2]] = shift!(ye)\n",
    "            yg = false\n",
    "            yb += 1\n",
    "        end\n",
    "    else\n",
    "        f = isa(parse(d[3]), Number) ? parse(d[3]) : yc[d[3]]\n",
    "        if d[1] == \"jgz\"\n",
    "            g = isa(parse(d[2]), Number) ? parse(d[2]) : yc[d[2]]\n",
    "            yb += g > 0 ? f : 1\n",
    "        else\n",
    "            if d[1] == \"set\"\n",
    "                yc[d[2]] = f\n",
    "            elseif d[1] == \"add\"\n",
    "                yc[d[2]] = yc[d[2]] + f\n",
    "            elseif d[1] == \"mul\"\n",
    "                yc[d[2]] = get(yc, d[2], 0) * f\n",
    "            elseif d[1] == \"mod\"\n",
    "                yc[d[2]] = mod(yc[d[2]], f)\n",
    "            end\n",
    "            yb += 1\n",
    "        end\n",
    "    end\n",
    "end\n",
    "yh"
   ]
  },
  {
   "cell_type": "code",
   "execution_count": null,
   "metadata": {},
   "outputs": [],
   "source": []
  }
 ],
 "metadata": {
  "kernelspec": {
   "display_name": "Julia 0.6.0",
   "language": "julia",
   "name": "julia-0.6"
  },
  "language_info": {
   "file_extension": ".jl",
   "mimetype": "application/julia",
   "name": "julia",
   "version": "0.6.0"
  }
 },
 "nbformat": 4,
 "nbformat_minor": 2
}
