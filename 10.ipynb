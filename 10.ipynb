{
 "cells": [
  {
   "cell_type": "code",
   "execution_count": 230,
   "metadata": {},
   "outputs": [
    {
     "data": {
      "text/plain": [
       "\"225,171,131,2,35,5,0,13,1,246,54,97,255,98,254,110\""
      ]
     },
     "execution_count": 230,
     "metadata": {},
     "output_type": "execute_result"
    }
   ],
   "source": [
    "input = \"225,171,131,2,35,5,0,13,1,246,54,97,255,98,254,110\""
   ]
  },
  {
   "cell_type": "code",
   "execution_count": 231,
   "metadata": {},
   "outputs": [
    {
     "data": {
      "text/plain": [
       "r (generic function with 3 methods)"
      ]
     },
     "execution_count": 231,
     "metadata": {},
     "output_type": "execute_result"
    }
   ],
   "source": [
    "function r(i, s)\n",
    "    for l in ls\n",
    "        b = [a[(i + j - 2) % length(a) + 1] for j in 1:l]\n",
    "        reverse!(b)\n",
    "        for j in 1:l\n",
    "            a[(i + j - 2) % length(a) + 1] = b[j]\n",
    "        end\n",
    "        i = (i + (l + s) - 1) % length(a) + 1\n",
    "        s += 1\n",
    "    end\n",
    "    (i, s)\n",
    "end"
   ]
  },
  {
   "cell_type": "code",
   "execution_count": 232,
   "metadata": {},
   "outputs": [
    {
     "data": {
      "text/plain": [
       "23874"
      ]
     },
     "execution_count": 232,
     "metadata": {},
     "output_type": "execute_result"
    }
   ],
   "source": [
    "ls = map(parse, split(input, \",\"))\n",
    "a = collect(0:255)\n",
    "i = 1\n",
    "s = 0\n",
    "r(i, s)\n",
    "a[1] * a[2]"
   ]
  },
  {
   "cell_type": "code",
   "execution_count": 233,
   "metadata": {},
   "outputs": [
    {
     "name": "stdout",
     "output_type": "stream",
     "text": [
      "e1a65bfb5a5ce396025fab5528c25a87"
     ]
    }
   ],
   "source": [
    "ls = [Int(c) for c in input]\n",
    "append!(ls, [17,31,73,47,23])\n",
    "a = collect(0:255)\n",
    "i = 1\n",
    "s = 0\n",
    "for j in 1:64\n",
    "    (i, s) = r(i, s)\n",
    "end\n",
    "for j in 1:16:256\n",
    "    print(hex(a[j] ⊻ a[j+1] ⊻ a[j+2] ⊻ a[j+3] ⊻ a[j+4] ⊻ a[j+5] ⊻ a[j+6] ⊻ a[j+7] ⊻ a[j+8] ⊻ a[j+9] ⊻ a[j+10] ⊻ a[j+11] ⊻ a[j+12] ⊻ a[j+13] ⊻ a[j+14] ⊻ a[j+15], 2))\n",
    "end"
   ]
  },
  {
   "cell_type": "code",
   "execution_count": null,
   "metadata": {},
   "outputs": [],
   "source": []
  }
 ],
 "metadata": {
  "kernelspec": {
   "display_name": "Julia 0.6.0",
   "language": "julia",
   "name": "julia-0.6"
  },
  "language_info": {
   "file_extension": ".jl",
   "mimetype": "application/julia",
   "name": "julia",
   "version": "0.6.0"
  }
 },
 "nbformat": 4,
 "nbformat_minor": 2
}
