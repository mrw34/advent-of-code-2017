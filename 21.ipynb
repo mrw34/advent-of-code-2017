{
 "cells": [
  {
   "cell_type": "code",
   "execution_count": 23,
   "metadata": {},
   "outputs": [
    {
     "data": {
      "text/plain": [
       "108-element Array{String,1}:\n",
       " \"../.. => .##/##./.#.\"              \n",
       " \"#./.. => .#./#.#/##.\"              \n",
       " \"##/.. => #.#/#.#/###\"              \n",
       " \".#/#. => #../.#./.#.\"              \n",
       " \"##/#. => ##./#.#/..#\"              \n",
       " \"##/## => #.#/#.#/...\"              \n",
       " \".../.../... => ..##/##../##../#.#.\"\n",
       " \"#../.../... => ##.#/..#./#.#./.#..\"\n",
       " \".#./.../... => ..#./##.#/#.##/###.\"\n",
       " \"##./.../... => ###./##.#/.###/#.#.\"\n",
       " \"#.#/.../... => ##../#..#/.###/#.#.\"\n",
       " \"###/.../... => ...#/#..#/...#/...#\"\n",
       " \".#./#../... => ...#/.##./#.##/..#.\"\n",
       " ⋮                                   \n",
       " \"#.#/.../#.# => #.#./#.#./..../...#\"\n",
       " \"###/.../#.# => ####/###./..../##.#\"\n",
       " \"###/#../#.# => .###/##.#/#.##/..#.\"\n",
       " \"#.#/.#./#.# => ###./.###/#.##/....\"\n",
       " \"###/.#./#.# => .##./###./#.#./##..\"\n",
       " \"###/##./#.# => #.../.#.#/#.##/#..#\"\n",
       " \"#.#/#.#/#.# => ..#./#.#./##../..##\"\n",
       " \"###/#.#/#.# => ..#./.#../...#/.##.\"\n",
       " \"#.#/###/#.# => ..#./###./##.#/####\"\n",
       " \"###/###/#.# => #.../#.#./#..#/.#.#\"\n",
       " \"###/#.#/### => ..##/.##./.#.#/#...\"\n",
       " \"###/###/### => .##./..##/####/###.\""
      ]
     },
     "execution_count": 23,
     "metadata": {},
     "output_type": "execute_result"
    }
   ],
   "source": [
    "input = readlines(\"21.input\")"
   ]
  },
  {
   "cell_type": "code",
   "execution_count": 24,
   "metadata": {},
   "outputs": [],
   "source": [
    "z = Dict()\n",
    "for e in split.(replace.(input, \"/\", \"\"), \" => \")\n",
    "    l = map(g -> g == \"#\" ? 1 : 0, split(e[1], \"\"))\n",
    "    i = transpose(reshape(l, Int(sqrt(length(e[1]))), :))\n",
    "    for k in [\n",
    "            i,\n",
    "            flipdim(i, 1), #up\n",
    "            flipdim(i, 2), #left\n",
    "#             flipdim(transpose(i), 2), #90\n",
    "            flipdim(flipdim(transpose(i), 2), 1), #90 then up\n",
    "#             flipdim(flipdim(transpose(i), 2), 2), #90 then left\n",
    "#             flipdim(flipdim(i, 1), 2), #180\n",
    "            flipdim(transpose(i), 1), #270\n",
    "        ]\n",
    "        z[replace(replace(join(vec(transpose(k))), \"0\", \".\"), \"1\", \"#\")] = e[2]\n",
    "    end\n",
    "end"
   ]
  },
  {
   "cell_type": "code",
   "execution_count": 25,
   "metadata": {},
   "outputs": [
    {
     "data": {
      "text/plain": [
       "188"
      ]
     },
     "execution_count": 25,
     "metadata": {},
     "output_type": "execute_result"
    }
   ],
   "source": [
    "function divide(h)\n",
    "    a = []\n",
    "    s = Int(sqrt(length(h)))\n",
    "    if s % 2 == 0\n",
    "        for y in 0:2:s-1\n",
    "            for x in 0:2:s-1\n",
    "                o = y*s+x+1\n",
    "                push!(a, string(h[o:o+1], h[o+s:o+1+s]))\n",
    "            end\n",
    "        end\n",
    "    else\n",
    "        for y in 0:3:s-1\n",
    "            for x in 0:3:s-1\n",
    "                o = y*s+x+1\n",
    "                push!(a, string(h[o:o+2], h[o+s:o+2+s], h[o+2*s:o+2+2*s]))\n",
    "            end\n",
    "        end\n",
    "    end\n",
    "    a\n",
    "end\n",
    "function apply(h)\n",
    "    map(e->z[e], h)\n",
    "end\n",
    "function adjoin(h)\n",
    "    if length(h) == 1\n",
    "        return join(h)\n",
    "    end\n",
    "    a = \"\"\n",
    "    d = length(h) % 2 == 0 ? 2 : 3\n",
    "    e = length(h[1]) % 2 == 0 ? 2 : 3\n",
    "    for i in 1:d:length(h)\n",
    "       for j in 1:e:length(h[1])\n",
    "            for k in 1:d\n",
    "                a = string(a, h[i-1+k][j:j-1+e])\n",
    "            end\n",
    "        end\n",
    "    end\n",
    "    a\n",
    "end\n",
    "j = \".#...####\"\n",
    "for _ in 1:5\n",
    "    j = adjoin(apply(divide(j)))\n",
    "end\n",
    "length(replace(j, \".\", \"\"))"
   ]
  },
  {
   "cell_type": "code",
   "execution_count": 26,
   "metadata": {},
   "outputs": [
    {
     "name": "stdout",
     "output_type": "stream",
     "text": [
      "2758764\n"
     ]
    }
   ],
   "source": [
    "p = [\".#...####\"]\n",
    "for _ in 1:6\n",
    "    for _ in 1:length(p)\n",
    "        a = z[shift!(p)]\n",
    "        b = [string(a[1:2], a[5:6]), string(a[3:4], a[7:8]), string(a[9:10], a[13:14]), string(a[11:12], a[15:16])]\n",
    "        c = getindex.(z, b)\n",
    "        d = [\n",
    "            string(c[1][1:2], c[1][4:5]), string(c[1][3], c[2][1], c[1][6], c[2][4]), string(c[2][2:3], c[2][5:6]),\n",
    "            string(c[1][7:8], c[3][1:2]), string(c[1][9], c[2][7], c[3][3], c[4][1]), string(c[2][8:9], c[4][2:3]),\n",
    "            string(c[3][4:5], c[3][7:8]), string(c[3][6], c[4][4], c[3][9], c[4][7]), string(c[4][5:6], c[4][8:9])\n",
    "        ]\n",
    "        for q in d\n",
    "            push!(p, z[q])\n",
    "        end\n",
    "    end\n",
    "end\n",
    "println(sum(length.(replace.(p, \".\", \"\"))))"
   ]
  },
  {
   "cell_type": "code",
   "execution_count": null,
   "metadata": {},
   "outputs": [],
   "source": []
  }
 ],
 "metadata": {
  "kernelspec": {
   "display_name": "Julia 0.6.2",
   "language": "julia",
   "name": "julia-0.6"
  },
  "language_info": {
   "file_extension": ".jl",
   "mimetype": "application/julia",
   "name": "julia",
   "version": "0.6.2"
  }
 },
 "nbformat": 4,
 "nbformat_minor": 2
}
